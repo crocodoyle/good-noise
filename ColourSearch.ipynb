{
 "cells": [
  {
   "cell_type": "code",
   "execution_count": 1,
   "metadata": {},
   "outputs": [],
   "source": [
    "import mne\n",
    "from mne.io import read_raw_edf\n",
    "from mne import Epochs, pick_types, find_events\n",
    "from mne.viz.topomap import plot_psds_topomap, plot_topomap\n",
    "from mne.time_frequency import psd_multitaper, psd_welch\n",
    "from scipy.signal import welch, lfilter\n",
    "\n",
    "from mne.io import set_bipolar_reference\n",
    "\n",
    "from mne.preprocessing import compute_proj_eog, ICA, ica_find_ecg_events, ica_find_eog_events\n",
    "from mne.preprocessing import create_ecg_epochs, create_eog_epochs\n",
    "\n",
    "from scipy.io import loadmat\n",
    "from scipy.signal import periodogram, deconvolve\n",
    "from scipy.misc import pade\n",
    "\n",
    "from sklearn.linear_model import RANSACRegressor\n",
    "from sklearn.metrics import r2_score, mean_absolute_error\n",
    "\n",
    "import matplotlib\n",
    "matplotlib.use('Qt5Agg')\n",
    "import matplotlib.pyplot as plt\n",
    "\n",
    "import csv, io, pickle\n",
    "\n",
    "import numpy as np\n",
    "from fooof import FOOOF, FOOOFGroup\n",
    "from fooof.utils import combine_fooofs, get_settings\n",
    "\n",
    "import argparse, time\n",
    "\n",
    "import sys\n",
    "from PIL import Image\n",
    "\n",
    "from colour_search import load_montage, load_results, ssp_preprocessing, ica_preprocessing, combine_vertical_eog, fooof_channel_rejection\n",
    "\n",
    "\n",
    "participants = ['ft10_p1', 'ft10_p2', 'ft10_p3', 'ft10_p4']\n",
    "sessions = ['s1', 's2', 's3', 's4', 's5', 's6', 's7', 's8', 's9', 's10']\n",
    "channel_names = ['A1', 'A2', 'A3', 'A4', 'A5', 'A6', 'A7', 'A8', 'A9', 'A10', 'A11', 'A12', 'A13', 'A14', 'A15', 'A16', 'A17', 'A18', 'A19', 'A20', 'A21', 'A22', 'A23', 'A24', 'A25', 'A26', 'A27', 'A28', 'A29', 'A30', 'A31', 'A32', 'B1', 'B2', 'B3', 'B4', 'B5', 'B6', 'B7', 'B8', 'B9', 'B10', 'B11', 'B12', 'B13', 'B14', 'B15', 'B16', 'B17', 'B18', 'B19', 'B20', 'B21', 'B22', 'B23', 'B24', 'B25', 'B26', 'B27', 'B28', 'B29', 'B30', 'B31', 'B32', 'C1', 'C2', 'C3', 'C4', 'C5', 'C6', 'C7', 'C8', 'C9', 'C10', 'C11', 'C12', 'C13', 'C14', 'C15', 'C16', 'C17', 'C18', 'C19', 'C20', 'C21', 'C22', 'C23', 'C24', 'C25', 'C26', 'C27', 'C28', 'C29', 'C30', 'C31', 'C32', 'D1', 'D2', 'D3', 'D4', 'D5', 'D6', 'D7', 'D8', 'D9', 'D10', 'D11', 'D12', 'D13', 'D14', 'D15', 'D16', 'D17', 'D18', 'D19', 'D20', 'D21', 'D22', 'D23', 'D24', 'D25', 'D26', 'D27', 'D28', 'D29', 'D30', 'D31', 'D32', 'EXG1', 'EXG2', 'EXG3', 'EXG4', 'EXG5', 'EXG6', 'EXG7', 'EXG8']\n",
    "\n",
    "channels_file = 'Glasgow_BioSemi_132.ced'\n",
    "\n",
    "data_dir = '/data1/users/adoyle/eeg_test_retest/'\n",
    "\n",
    "n_channels = 132\n",
    "channel_names = channel_names[0:n_channels]\n",
    "n_freqs = 256\n",
    "n_events = 1100\n",
    "n_bands = 5\n",
    "n_participants = len(participants)\n",
    "n_sessions = len(sessions)\n",
    "\n",
    "# n_freqs_fooofed = 47027\n",
    "\n",
    "fooof_group = FOOOFGroup()\n",
    "freq = None"
   ]
  },
  {
   "cell_type": "code",
   "execution_count": null,
   "metadata": {},
   "outputs": [
    {
     "name": "stdout",
     "output_type": "stream",
     "text": [
      "Participant 1 / 4 session 1 / 10\n",
      "Extracting EDF parameters from /data1/users/adoyle/eeg_test_retest/ft10_p1/ft10_p1s1.bdf...\n",
      "BDF file detected\n",
      "Setting channel info structure...\n",
      "Creating raw.info structure...\n",
      "Reading 0 ... 1348607  =      0.000 ...  2633.998 secs...\n",
      "bad channels: []\n",
      "No bad channels to interpolate. Doing nothing...\n",
      "This filename (/data1/users/adoyle/eeg_test_retest//cleaned/ft10_p1/ft10_p1s1.bdf) does not conform to MNE naming conventions. All raw files should end with raw.fif, raw_sss.fif, raw_tsss.fif, raw.fif.gz, raw_sss.fif.gz or raw_tsss.fif.gz\n",
      "Overwriting existing file.\n",
      "Writing /data1/users/adoyle/eeg_test_retest/cleaned/ft10_p1/ft10_p1s1.bdf\n"
     ]
    },
    {
     "name": "stderr",
     "output_type": "stream",
     "text": [
      "<ipython-input-2-fff6b2c0f079>:22: RuntimeWarning: No bad channels to interpolate. Doing nothing...\n",
      "  eeg.interpolate_bads()\n",
      "<ipython-input-2-fff6b2c0f079>:24: RuntimeWarning: This filename (/data1/users/adoyle/eeg_test_retest//cleaned/ft10_p1/ft10_p1s1.bdf) does not conform to MNE naming conventions. All raw files should end with raw.fif, raw_sss.fif, raw_tsss.fif, raw.fif.gz, raw_sss.fif.gz or raw_tsss.fif.gz\n",
      "  eeg.save(data_dir + '/cleaned/' + participant + '/' + participant + session_name + '.bdf', overwrite=True)\n"
     ]
    },
    {
     "name": "stdout",
     "output_type": "stream",
     "text": [
      "Closing /data1/users/adoyle/eeg_test_retest/cleaned/ft10_p1/ft10_p1s1.bdf [done]\n",
      "Participant 1 / 4 session 2 / 10\n",
      "Extracting EDF parameters from /data1/users/adoyle/eeg_test_retest/ft10_p1/ft10_p1s2.bdf...\n",
      "BDF file detected\n",
      "Setting channel info structure...\n",
      "Creating raw.info structure...\n",
      "The following EEG sensors did not have a position specified in the selected montage: ['GSR1', 'GSR2', 'Erg1', 'Erg2', 'Resp', 'Plet', 'Temp']. Their position has been left untouched.\n",
      "Reading 0 ... 1431039  =      0.000 ...  2794.998 secs...\n"
     ]
    },
    {
     "name": "stderr",
     "output_type": "stream",
     "text": [
      "<ipython-input-2-fff6b2c0f079>:16: RuntimeWarning: The following EEG sensors did not have a position specified in the selected montage: ['GSR1', 'GSR2', 'Erg1', 'Erg2', 'Resp', 'Plet', 'Temp']. Their position has been left untouched.\n",
      "  exclude=['EXG5', 'EXG6', 'EXG7', 'EXG8'])\n"
     ]
    }
   ],
   "source": [
    "montage = load_montage()\n",
    "\n",
    "f_low = 0.1\n",
    "f_high = 30\n",
    "\n",
    "for participant_idx, participant in enumerate(participants):\n",
    "    plt.close()\n",
    "    \n",
    "    for session_idx, session_name in enumerate(sessions):\n",
    "        print('Participant', participant_idx + 1, '/', len(participants), 'session', session_idx + 1, '/',\n",
    "              len(sessions))\n",
    "\n",
    "        filename = data_dir + participant + '/' + participant + session_name + '.bdf'\n",
    "\n",
    "        eeg = read_raw_edf(filename, montage=montage, eog=['EXG1', 'EXG2', 'EXG3', 'EXG4'], preload=True,\n",
    "                           exclude=['EXG5', 'EXG6', 'EXG7', 'EXG8'])\n",
    "        #         mne.set_eeg_reference(eeg, ref_channels='average', copy=True, projection=False)\n",
    "      \n",
    "    \n",
    "        eeg.plot(start=1000.0, n_channels=128, block=True)\n",
    "        print('bad channels:', eeg.info['bads'])\n",
    "        eeg.interpolate_bads()\n",
    "        \n",
    "        eeg.save(data_dir + '/cleaned/' + participant + '/' + participant + session_name + '.bdf', overwrite=True)"
   ]
  },
  {
   "cell_type": "code",
   "execution_count": 18,
   "metadata": {},
   "outputs": [
    {
     "name": "stdout",
     "output_type": "stream",
     "text": [
      "Participant 1 / 4 session 1 / 10\n",
      "Extracting EDF parameters from /data1/users/adoyle/eeg_test_retest/ft10_p1/ft10_p1s1.bdf...\n",
      "BDF file detected\n",
      "Setting channel info structure...\n",
      "Creating raw.info structure...\n",
      "Reading 0 ... 1348607  =      0.000 ...  2633.998 secs...\n"
     ]
    },
    {
     "ename": "ValueError",
     "evalue": "No data available to fit - can not proceed.",
     "output_type": "error",
     "traceback": [
      "\u001b[0;31m---------------------------------------------------------------------------\u001b[0m",
      "\u001b[0;31mValueError\u001b[0m                                Traceback (most recent call last)",
      "\u001b[0;32m<ipython-input-18-d3f2f86b12b5>\u001b[0m in \u001b[0;36m<module>\u001b[0;34m()\u001b[0m\n\u001b[1;32m     25\u001b[0m \u001b[0;34m\u001b[0m\u001b[0m\n\u001b[1;32m     26\u001b[0m         \u001b[0mff\u001b[0m \u001b[0;34m=\u001b[0m \u001b[0mFOOOF\u001b[0m\u001b[0;34m(\u001b[0m\u001b[0;34m)\u001b[0m\u001b[0;34m\u001b[0m\u001b[0m\n\u001b[0;32m---> 27\u001b[0;31m         \u001b[0mff\u001b[0m\u001b[0;34m.\u001b[0m\u001b[0mfit\u001b[0m\u001b[0;34m(\u001b[0m\u001b[0mtime_series\u001b[0m\u001b[0;34m)\u001b[0m\u001b[0;34m\u001b[0m\u001b[0m\n\u001b[0m\u001b[1;32m     28\u001b[0m \u001b[0;34m\u001b[0m\u001b[0m\n\u001b[1;32m     29\u001b[0m \u001b[0;34m\u001b[0m\u001b[0m\n",
      "\u001b[0;32m~/PycharmProjects/fooof/fooof/fit.py\u001b[0m in \u001b[0;36mfit\u001b[0;34m(self, freqs, power_spectrum, freq_range)\u001b[0m\n\u001b[1;32m    328\u001b[0m         \u001b[0;31m# Check that data is available\u001b[0m\u001b[0;34m\u001b[0m\u001b[0;34m\u001b[0m\u001b[0m\n\u001b[1;32m    329\u001b[0m         \u001b[0;32mif\u001b[0m \u001b[0mself\u001b[0m\u001b[0;34m.\u001b[0m\u001b[0mfreqs\u001b[0m \u001b[0;32mis\u001b[0m \u001b[0;32mNone\u001b[0m \u001b[0;32mor\u001b[0m \u001b[0mself\u001b[0m\u001b[0;34m.\u001b[0m\u001b[0mpower_spectrum\u001b[0m \u001b[0;32mis\u001b[0m \u001b[0;32mNone\u001b[0m\u001b[0;34m:\u001b[0m\u001b[0;34m\u001b[0m\u001b[0m\n\u001b[0;32m--> 330\u001b[0;31m             \u001b[0;32mraise\u001b[0m \u001b[0mValueError\u001b[0m\u001b[0;34m(\u001b[0m\u001b[0;34m'No data available to fit - can not proceed.'\u001b[0m\u001b[0;34m)\u001b[0m\u001b[0;34m\u001b[0m\u001b[0m\n\u001b[0m\u001b[1;32m    331\u001b[0m \u001b[0;34m\u001b[0m\u001b[0m\n\u001b[1;32m    332\u001b[0m         \u001b[0;31m# Check and warn about width limits (if in verbose mode)\u001b[0m\u001b[0;34m\u001b[0m\u001b[0;34m\u001b[0m\u001b[0m\n",
      "\u001b[0;31mValueError\u001b[0m: No data available to fit - can not proceed."
     ]
    }
   ],
   "source": [
    "from fooof import FOOOF, FOOOFGroup\n",
    "from scipy.signal import bilinear, remez\n",
    "from mne.viz import plot_filter\n",
    "from mne.time_frequency import psd_multitaper, psd_welch\n",
    "\n",
    "montage = load_montage()\n",
    "\n",
    "f_low = 1\n",
    "f_high = 40\n",
    "\n",
    "for participant_idx, participant in enumerate(participants):\n",
    "    plt.close()\n",
    "    \n",
    "    for session_idx, session_name in enumerate(sessions):\n",
    "        print('Participant', participant_idx + 1, '/', len(participants), 'session', session_idx + 1, '/',\n",
    "              len(sessions))\n",
    "\n",
    "        filename = data_dir + participant + '/' + participant + session_name + '.bdf'\n",
    "\n",
    "        eeg = read_raw_edf(filename, montage=montage, eog=['EXG1', 'EXG2', 'EXG3', 'EXG4'], preload=True,\n",
    "                           exclude=['EXG5', 'EXG6', 'EXG7', 'EXG8'])\n",
    "        \n",
    "        \n",
    "        time_series = eeg.get_data(picks=list(range(128)))\n",
    "        \n",
    "        ff = FOOOF()\n",
    "        ff.fit(time_series)\n",
    "        \n",
    "        "
   ]
  },
  {
   "cell_type": "code",
   "execution_count": 15,
   "metadata": {},
   "outputs": [
    {
     "name": "stderr",
     "output_type": "stream",
     "text": [
      "/home/users/adoyle/anaconda3/lib/python3.6/site-packages/ipykernel_launcher.py:4: UserWarning: \n",
      "This call to matplotlib.use() has no effect because the backend has already\n",
      "been chosen; matplotlib.use() must be called *before* pylab, matplotlib.pyplot,\n",
      "or matplotlib.backends is imported for the first time.\n",
      "\n",
      "The backend was *originally* set to 'module://ipykernel.pylab.backend_inline' by the following code:\n",
      "  File \"/home/users/adoyle/anaconda3/lib/python3.6/runpy.py\", line 193, in _run_module_as_main\n",
      "    \"__main__\", mod_spec)\n",
      "  File \"/home/users/adoyle/anaconda3/lib/python3.6/runpy.py\", line 85, in _run_code\n",
      "    exec(code, run_globals)\n",
      "  File \"/home/users/adoyle/anaconda3/lib/python3.6/site-packages/ipykernel_launcher.py\", line 16, in <module>\n",
      "    app.launch_new_instance()\n",
      "  File \"/home/users/adoyle/anaconda3/lib/python3.6/site-packages/traitlets/config/application.py\", line 658, in launch_instance\n",
      "    app.start()\n",
      "  File \"/home/users/adoyle/anaconda3/lib/python3.6/site-packages/ipykernel/kernelapp.py\", line 477, in start\n",
      "    ioloop.IOLoop.instance().start()\n",
      "  File \"/home/users/adoyle/anaconda3/lib/python3.6/site-packages/zmq/eventloop/ioloop.py\", line 177, in start\n",
      "    super(ZMQIOLoop, self).start()\n",
      "  File \"/home/users/adoyle/anaconda3/lib/python3.6/site-packages/tornado/ioloop.py\", line 888, in start\n",
      "    handler_func(fd_obj, events)\n",
      "  File \"/home/users/adoyle/anaconda3/lib/python3.6/site-packages/tornado/stack_context.py\", line 277, in null_wrapper\n",
      "    return fn(*args, **kwargs)\n",
      "  File \"/home/users/adoyle/anaconda3/lib/python3.6/site-packages/zmq/eventloop/zmqstream.py\", line 440, in _handle_events\n",
      "    self._handle_recv()\n",
      "  File \"/home/users/adoyle/anaconda3/lib/python3.6/site-packages/zmq/eventloop/zmqstream.py\", line 472, in _handle_recv\n",
      "    self._run_callback(callback, msg)\n",
      "  File \"/home/users/adoyle/anaconda3/lib/python3.6/site-packages/zmq/eventloop/zmqstream.py\", line 414, in _run_callback\n",
      "    callback(*args, **kwargs)\n",
      "  File \"/home/users/adoyle/anaconda3/lib/python3.6/site-packages/tornado/stack_context.py\", line 277, in null_wrapper\n",
      "    return fn(*args, **kwargs)\n",
      "  File \"/home/users/adoyle/anaconda3/lib/python3.6/site-packages/ipykernel/kernelbase.py\", line 283, in dispatcher\n",
      "    return self.dispatch_shell(stream, msg)\n",
      "  File \"/home/users/adoyle/anaconda3/lib/python3.6/site-packages/ipykernel/kernelbase.py\", line 235, in dispatch_shell\n",
      "    handler(stream, idents, msg)\n",
      "  File \"/home/users/adoyle/anaconda3/lib/python3.6/site-packages/ipykernel/kernelbase.py\", line 399, in execute_request\n",
      "    user_expressions, allow_stdin)\n",
      "  File \"/home/users/adoyle/anaconda3/lib/python3.6/site-packages/ipykernel/ipkernel.py\", line 196, in do_execute\n",
      "    res = shell.run_cell(code, store_history=store_history, silent=silent)\n",
      "  File \"/home/users/adoyle/anaconda3/lib/python3.6/site-packages/ipykernel/zmqshell.py\", line 533, in run_cell\n",
      "    return super(ZMQInteractiveShell, self).run_cell(*args, **kwargs)\n",
      "  File \"/home/users/adoyle/anaconda3/lib/python3.6/site-packages/IPython/core/interactiveshell.py\", line 2698, in run_cell\n",
      "    interactivity=interactivity, compiler=compiler, result=result)\n",
      "  File \"/home/users/adoyle/anaconda3/lib/python3.6/site-packages/IPython/core/interactiveshell.py\", line 2802, in run_ast_nodes\n",
      "    if self.run_code(code, result):\n",
      "  File \"/home/users/adoyle/anaconda3/lib/python3.6/site-packages/IPython/core/interactiveshell.py\", line 2862, in run_code\n",
      "    exec(code_obj, self.user_global_ns, self.user_ns)\n",
      "  File \"<ipython-input-14-4df8f0c148d9>\", line 6, in <module>\n",
      "    get_ipython().magic('matplotlib inline')\n",
      "  File \"/home/users/adoyle/anaconda3/lib/python3.6/site-packages/IPython/core/interactiveshell.py\", line 2146, in magic\n",
      "    return self.run_line_magic(magic_name, magic_arg_s)\n",
      "  File \"/home/users/adoyle/anaconda3/lib/python3.6/site-packages/IPython/core/interactiveshell.py\", line 2067, in run_line_magic\n",
      "    result = fn(*args,**kwargs)\n",
      "  File \"<decorator-gen-107>\", line 2, in matplotlib\n",
      "  File \"/home/users/adoyle/anaconda3/lib/python3.6/site-packages/IPython/core/magic.py\", line 187, in <lambda>\n",
      "    call = lambda f, *a, **k: f(*a, **k)\n",
      "  File \"/home/users/adoyle/anaconda3/lib/python3.6/site-packages/IPython/core/magics/pylab.py\", line 99, in matplotlib\n",
      "    gui, backend = self.shell.enable_matplotlib(args.gui)\n",
      "  File \"/home/users/adoyle/anaconda3/lib/python3.6/site-packages/IPython/core/interactiveshell.py\", line 2930, in enable_matplotlib\n",
      "    pt.activate_matplotlib(backend)\n",
      "  File \"/home/users/adoyle/anaconda3/lib/python3.6/site-packages/IPython/core/pylabtools.py\", line 307, in activate_matplotlib\n",
      "    matplotlib.pyplot.switch_backend(backend)\n",
      "  File \"/home/users/adoyle/anaconda3/lib/python3.6/site-packages/matplotlib/pyplot.py\", line 229, in switch_backend\n",
      "    matplotlib.use(newbackend, warn=False, force=True)\n",
      "  File \"/home/users/adoyle/anaconda3/lib/python3.6/site-packages/matplotlib/__init__.py\", line 1305, in use\n",
      "    reload(sys.modules['matplotlib.backends'])\n",
      "  File \"/home/users/adoyle/anaconda3/lib/python3.6/importlib/__init__.py\", line 166, in reload\n",
      "    _bootstrap._exec(spec, module)\n",
      "  File \"/home/users/adoyle/anaconda3/lib/python3.6/site-packages/matplotlib/backends/__init__.py\", line 14, in <module>\n",
      "    line for line in traceback.format_stack()\n",
      "\n",
      "\n",
      "  after removing the cwd from sys.path.\n",
      "/home/users/adoyle/anaconda3/lib/python3.6/site-packages/ipykernel_launcher.py:11: RuntimeWarning: divide by zero encountered in log10\n",
      "  # This is added back by InteractiveShellApp.init_path()\n"
     ]
    },
    {
     "data": {
      "image/png": "[encoded data removed]",
      "text/plain": [
       "<matplotlib.figure.Figure at 0x7f0c5060e4a8>"
      ]
     },
     "metadata": {},
     "output_type": "display_data"
    }
   ],
   "source": [
    "import numpy as np\n",
    "\n",
    "import matplotlib\n",
    "matplotlib.use('TkAgg')\n",
    "import matplotlib.pyplot as plt\n",
    "%matplotlib inline\n",
    "\n",
    "freqs = np.linspace(0, 512, num=1000)\n",
    "\n",
    "for x in range(1, 10):\n",
    "    log = np.log10(freqs**x)\n",
    "    bg = -10-log\n",
    "    grad = np.gradient(log)\n",
    "    plt.plot(freqs, grad)\n",
    "    \n",
    "plt.xlim([0, 10])\n",
    "plt.show()\n"
   ]
  },
  {
   "cell_type": "code",
   "execution_count": null,
   "metadata": {
    "collapsed": true
   },
   "outputs": [],
   "source": [
    "ff = FOOOF()"
   ]
  }
 ],
 "metadata": {
  "kernelspec": {
   "display_name": "Python 3",
   "language": "python",
   "name": "python3"
  },
  "language_info": {
   "codemirror_mode": {
    "name": "ipython",
    "version": 3
   },
   "file_extension": ".py",
   "mimetype": "text/x-python",
   "name": "python",
   "nbconvert_exporter": "python",
   "pygments_lexer": "ipython3",
   "version": "3.7.3"
  }
 },
 "nbformat": 4,
 "nbformat_minor": 1
}
